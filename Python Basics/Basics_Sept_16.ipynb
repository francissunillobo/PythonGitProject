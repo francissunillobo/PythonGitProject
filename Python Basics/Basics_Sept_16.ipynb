{
 "cells": [
  {
   "cell_type": "markdown",
   "id": "e15f6c71-feff-45d0-90f1-bc2a67b971a3",
   "metadata": {},
   "source": [
    "## <font size = 6 color = 'white'> **Kernel vs Interpreter**"
   ]
  },
  {
   "cell_type": "markdown",
   "id": "fad21a44-c4ab-4fea-811a-41caefd65cd1",
   "metadata": {},
   "source": [
    "**kernel**: The kernel manages your coding session: it sends your code to the interpreter, remembers variables/functions, and shows results back to you.<br>\n",
    "**Interpreter**: The interpreter converts Python code into instructions the computer can understand and run."
   ]
  },
  {
   "cell_type": "code",
   "execution_count": 1,
   "id": "77624d63-da92-407f-b258-23cdafa9f0df",
   "metadata": {},
   "outputs": [
    {
     "data": {
      "text/plain": [
       "'3.13.5 | packaged by Anaconda, Inc. | (main, Jun 12 2025, 16:37:03) [MSC v.1929 64 bit (AMD64)]'"
      ]
     },
     "execution_count": 1,
     "metadata": {},
     "output_type": "execute_result"
    }
   ],
   "source": [
    "import sys\n",
    "sys.version"
   ]
  },
  {
   "cell_type": "markdown",
   "id": "c0acb8fa-1acf-44c9-a086-166bcccc7a77",
   "metadata": {},
   "source": [
    "## <font size = 6 color = 'red'> <b>First Program"
   ]
  },
  {
   "cell_type": "code",
   "execution_count": null,
   "id": "0293bccf-3e6a-49c4-958a-2aa6c0b8d5f6",
   "metadata": {},
   "outputs": [
    {
     "name": "stdout",
     "output_type": "stream",
     "text": [
      "Hello World!\n"
     ]
    }
   ],
   "source": [
    "print(\"Hello World!\") "
   ]
  },
  {
   "cell_type": "markdown",
   "id": "728b63af-d53a-4081-91fb-29a7bfbb57ac",
   "metadata": {},
   "source": [
    "<font size = 5 color = white> **For execution** :\n",
    "\n",
    "<font size = 3 >\n",
    "    \n",
    "* click that play icon on top\n",
    "* Shift + Enter | Ctrl + enter"
   ]
  },
  {
   "cell_type": "markdown",
   "id": "1a3eb7ca-7cb5-4d29-a1f0-cf3ec5b897a3",
   "metadata": {},
   "source": [
    "## <font size = 5 color = white> <b>1. Comments : \n",
    "- the non executable part of the code.\n",
    "- Anything following '#'"
   ]
  },
  {
   "cell_type": "code",
   "execution_count": 2,
   "id": "0f348d79-bd9d-43a7-b5ba-23c3a82f8240",
   "metadata": {},
   "outputs": [],
   "source": [
    "# this is a comment"
   ]
  },
  {
   "cell_type": "markdown",
   "id": "0f5a87fc-2505-40d5-8729-3c40f5936dfb",
   "metadata": {},
   "source": [
    "## <font size = 5 color = white> <b>2. Data\n",
    "\n",
    "* Numerical : int, float, boolean\n",
    "* String : any character enclosed within '', \"\" or \"\"\" \"\"\" or ''' '''"
   ]
  },
  {
   "cell_type": "code",
   "execution_count": 9,
   "id": "6c944441-41c4-4d85-ae40-90d5d299d384",
   "metadata": {},
   "outputs": [
    {
     "data": {
      "text/plain": [
       "34"
      ]
     },
     "execution_count": 9,
     "metadata": {},
     "output_type": "execute_result"
    }
   ],
   "source": [
    "34 # int"
   ]
  },
  {
   "cell_type": "code",
   "execution_count": 10,
   "id": "d731baf5-7dc9-4223-8557-53ff75e59c78",
   "metadata": {},
   "outputs": [
    {
     "data": {
      "text/plain": [
       "54.88"
      ]
     },
     "execution_count": 10,
     "metadata": {},
     "output_type": "execute_result"
    }
   ],
   "source": [
    "54.88 # float"
   ]
  },
  {
   "cell_type": "markdown",
   "id": "51cceacc-3141-46d0-8d7a-51f39f0eb1d9",
   "metadata": {},
   "source": [
    "## <font size = 5 color = white> <b>3. builtins in python"
   ]
  },
  {
   "cell_type": "code",
   "execution_count": 11,
   "id": "9cdb37cf-871d-43de-81bb-69670c0c9842",
   "metadata": {},
   "outputs": [
    {
     "name": "stdout",
     "output_type": "stream",
     "text": [
      "['In', 'Out', '_', '_10', '_3', '_4', '_5', '_6', '_7', '_8', '_9', '__', '___', '__builtin__', '__builtins__', '__doc__', '__loader__', '__name__', '__package__', '__spec__', '__vsc_ipynb_file__', '_dh', '_i', '_i1', '_i10', '_i11', '_i2', '_i3', '_i4', '_i5', '_i6', '_i7', '_i8', '_i9', '_ih', '_ii', '_iii', '_oh', 'exit', 'get_ipython', 'open', 'quit']\n"
     ]
    }
   ],
   "source": [
    "print(dir())"
   ]
  },
  {
   "cell_type": "code",
   "execution_count": 12,
   "id": "1c45a78c-13e1-4d15-bc79-09290a5a466c",
   "metadata": {},
   "outputs": [
    {
     "name": "stdout",
     "output_type": "stream",
     "text": [
      "['ArithmeticError', 'AssertionError', 'AttributeError', 'BaseException', 'BaseExceptionGroup', 'BlockingIOError', 'BrokenPipeError', 'BufferError', 'BytesWarning', 'ChildProcessError', 'ConnectionAbortedError', 'ConnectionError', 'ConnectionRefusedError', 'ConnectionResetError', 'DeprecationWarning', 'EOFError', 'Ellipsis', 'EncodingWarning', 'EnvironmentError', 'Exception', 'ExceptionGroup', 'False', 'FileExistsError', 'FileNotFoundError', 'FloatingPointError', 'FutureWarning', 'GeneratorExit', 'IOError', 'ImportError', 'ImportWarning', 'IndentationError', 'IndexError', 'InterruptedError', 'IsADirectoryError', 'KeyError', 'KeyboardInterrupt', 'LookupError', 'MemoryError', 'ModuleNotFoundError', 'NameError', 'None', 'NotADirectoryError', 'NotImplemented', 'NotImplementedError', 'OSError', 'OverflowError', 'PendingDeprecationWarning', 'PermissionError', 'ProcessLookupError', 'PythonFinalizationError', 'RecursionError', 'ReferenceError', 'ResourceWarning', 'RuntimeError', 'RuntimeWarning', 'StopAsyncIteration', 'StopIteration', 'SyntaxError', 'SyntaxWarning', 'SystemError', 'SystemExit', 'TabError', 'TimeoutError', 'True', 'TypeError', 'UnboundLocalError', 'UnicodeDecodeError', 'UnicodeEncodeError', 'UnicodeError', 'UnicodeTranslateError', 'UnicodeWarning', 'UserWarning', 'ValueError', 'Warning', 'WindowsError', 'ZeroDivisionError', '_IncompleteInputError', '__IPYTHON__', '__build_class__', '__debug__', '__doc__', '__import__', '__loader__', '__name__', '__package__', '__spec__', 'abs', 'aiter', 'all', 'anext', 'any', 'ascii', 'bin', 'bool', 'breakpoint', 'bytearray', 'bytes', 'callable', 'chr', 'classmethod', 'compile', 'complex', 'copyright', 'credits', 'delattr', 'dict', 'dir', 'display', 'divmod', 'enumerate', 'eval', 'exec', 'execfile', 'filter', 'float', 'format', 'frozenset', 'get_ipython', 'getattr', 'globals', 'hasattr', 'hash', 'help', 'hex', 'id', 'input', 'int', 'isinstance', 'issubclass', 'iter', 'len', 'license', 'list', 'locals', 'map', 'max', 'memoryview', 'min', 'next', 'object', 'oct', 'open', 'ord', 'pow', 'print', 'property', 'range', 'repr', 'reversed', 'round', 'runfile', 'set', 'setattr', 'slice', 'sorted', 'staticmethod', 'str', 'sum', 'super', 'tuple', 'type', 'vars', 'zip']\n"
     ]
    }
   ],
   "source": [
    "print(dir(__builtins__))"
   ]
  },
  {
   "cell_type": "markdown",
   "id": "36c76492-0469-4ddc-b5bb-fcac997fb477",
   "metadata": {},
   "source": [
    "['ArithmeticError', 'AssertionError', 'AttributeError', 'BaseException', 'BaseExceptionGroup', 'BlockingIOError', 'BrokenPipeError', 'BufferError', 'BytesWarning', 'ChildProcessError', 'ConnectionAbortedError', 'ConnectionError', 'ConnectionRefusedError', 'ConnectionResetError', 'DeprecationWarning', 'EOFError', 'Ellipsis', 'EncodingWarning', 'EnvironmentError', 'Exception', 'ExceptionGroup', **'False'**, 'FileExistsError', 'FileNotFoundError', 'FloatingPointError', 'FutureWarning', 'GeneratorExit', 'IOError', 'ImportError', 'ImportWarning', 'IndentationError', 'IndexError', 'InterruptedError', 'IsADirectoryError', 'KeyError', 'KeyboardInterrupt', 'LookupError', 'MemoryError', 'ModuleNotFoundError', 'NameError', 'None', 'NotADirectoryError', 'NotImplemented', 'NotImplementedError', 'OSError', 'OverflowError', 'PendingDeprecationWarning', 'PermissionError', 'ProcessLookupError', 'RecursionError', 'ReferenceError', 'ResourceWarning', 'RuntimeError', 'RuntimeWarning', 'StopAsyncIteration', 'StopIteration', 'SyntaxError', 'SyntaxWarning', 'SystemError', 'SystemExit', 'TabError', 'TimeoutError', **'True'**, 'TypeError', 'UnboundLocalError', 'UnicodeDecodeError', 'UnicodeEncodeError', 'UnicodeError', 'UnicodeTranslateError', 'UnicodeWarning', 'UserWarning', 'ValueError', 'Warning', 'ZeroDivisionError', ```'__IPYTHON__', '__build_class__', '__debug__', '__doc__', '__import__', '__loader__', '__name__', '__package__', '__pybind11_internals_v4_gcc_libstdcpp_cxxabi1014__', '__spec__'```, 'abs', 'aiter', 'all', 'anext', 'any', 'ascii', 'bin', 'bool', 'breakpoint', 'bytearray', 'bytes', 'callable', 'chr', 'classmethod', 'compile', 'complex', 'copyright', 'credits', 'delattr', 'dict', 'dir', 'display', 'divmod', 'enumerate', 'eval', 'exec', 'execfile', 'filter', 'float', 'format', 'frozenset', 'get_ipython', 'getattr', 'globals', 'hasattr', 'hash', 'help', 'hex', 'id', 'input', 'int', 'isinstance', 'issubclass', 'iter', 'len', 'license', 'list', 'locals', 'map', 'max', 'memoryview', 'min', 'next', 'object', 'oct', 'open', 'ord', 'pow', 'print', 'property', 'range', 'repr', 'reversed', 'round', 'runfile', 'set', 'setattr', 'slice', 'sorted', 'staticmethod', 'str', 'sum', 'super', 'tuple', 'type', 'vars', 'zip']\n"
   ]
  },
  {
   "cell_type": "markdown",
   "id": "f70bff2a-61d2-4697-8220-15b2a46e7cd7",
   "metadata": {},
   "source": [
    "## <font size = 5 color = white> <b> 4. Call help"
   ]
  },
  {
   "cell_type": "code",
   "execution_count": 8,
   "id": "7cb48d07-993a-41f1-948c-112ef812cacc",
   "metadata": {},
   "outputs": [
    {
     "name": "stdout",
     "output_type": "stream",
     "text": [
      "Help on built-in function print in module builtins:\n",
      "\n",
      "print(*args, sep=' ', end='\\n', file=None, flush=False)\n",
      "    Prints the values to a stream, or to sys.stdout by default.\n",
      "\n",
      "    sep\n",
      "      string inserted between values, default a space.\n",
      "    end\n",
      "      string appended after the last value, default a newline.\n",
      "    file\n",
      "      a file-like object (stream); defaults to the current sys.stdout.\n",
      "    flush\n",
      "      whether to forcibly flush the stream.\n",
      "\n"
     ]
    }
   ],
   "source": [
    "help(print)"
   ]
  },
  {
   "cell_type": "code",
   "execution_count": 9,
   "id": "48688a42-4875-4418-8323-badd7848a63b",
   "metadata": {},
   "outputs": [
    {
     "data": {
      "text/plain": [
       "\u001b[1;31mSignature:\u001b[0m \u001b[0mprint\u001b[0m\u001b[1;33m(\u001b[0m\u001b[1;33m*\u001b[0m\u001b[0margs\u001b[0m\u001b[1;33m,\u001b[0m \u001b[0msep\u001b[0m\u001b[1;33m=\u001b[0m\u001b[1;34m' '\u001b[0m\u001b[1;33m,\u001b[0m \u001b[0mend\u001b[0m\u001b[1;33m=\u001b[0m\u001b[1;34m'\\n'\u001b[0m\u001b[1;33m,\u001b[0m \u001b[0mfile\u001b[0m\u001b[1;33m=\u001b[0m\u001b[1;32mNone\u001b[0m\u001b[1;33m,\u001b[0m \u001b[0mflush\u001b[0m\u001b[1;33m=\u001b[0m\u001b[1;32mFalse\u001b[0m\u001b[1;33m)\u001b[0m\u001b[1;33m\u001b[0m\u001b[1;33m\u001b[0m\u001b[0m\n",
       "\u001b[1;31mDocstring:\u001b[0m\n",
       "Prints the values to a stream, or to sys.stdout by default.\n",
       "\n",
       "sep\n",
       "  string inserted between values, default a space.\n",
       "end\n",
       "  string appended after the last value, default a newline.\n",
       "file\n",
       "  a file-like object (stream); defaults to the current sys.stdout.\n",
       "flush\n",
       "  whether to forcibly flush the stream.\n",
       "\u001b[1;31mType:\u001b[0m      builtin_function_or_method"
      ]
     },
     "metadata": {},
     "output_type": "display_data"
    }
   ],
   "source": [
    "?print"
   ]
  },
  {
   "cell_type": "code",
   "execution_count": 13,
   "id": "3c0fcb26-0cf3-46b2-b156-e3dfd1f49c85",
   "metadata": {},
   "outputs": [
    {
     "name": "stdout",
     "output_type": "stream",
     "text": [
      "\u001b[1;31mSignature:\u001b[0m \u001b[0mprint\u001b[0m\u001b[1;33m(\u001b[0m\u001b[1;33m*\u001b[0m\u001b[0margs\u001b[0m\u001b[1;33m,\u001b[0m \u001b[0msep\u001b[0m\u001b[1;33m=\u001b[0m\u001b[1;34m' '\u001b[0m\u001b[1;33m,\u001b[0m \u001b[0mend\u001b[0m\u001b[1;33m=\u001b[0m\u001b[1;34m'\\n'\u001b[0m\u001b[1;33m,\u001b[0m \u001b[0mfile\u001b[0m\u001b[1;33m=\u001b[0m\u001b[1;32mNone\u001b[0m\u001b[1;33m,\u001b[0m \u001b[0mflush\u001b[0m\u001b[1;33m=\u001b[0m\u001b[1;32mFalse\u001b[0m\u001b[1;33m)\u001b[0m\u001b[1;33m\u001b[0m\u001b[1;33m\u001b[0m\u001b[0m\n",
      "\u001b[1;31mDocstring:\u001b[0m\n",
      "Prints the values to a stream, or to sys.stdout by default.\n",
      "\n",
      "sep\n",
      "  string inserted between values, default a space.\n",
      "end\n",
      "  string appended after the last value, default a newline.\n",
      "file\n",
      "  a file-like object (stream); defaults to the current sys.stdout.\n",
      "flush\n",
      "  whether to forcibly flush the stream.\n",
      "\u001b[1;31mType:\u001b[0m      builtin_function_or_method"
     ]
    }
   ],
   "source": [
    "# if the source code is also a .py script then we may get the code\n",
    "??print"
   ]
  },
  {
   "cell_type": "markdown",
   "id": "87e24158-9518-4ad8-8bf9-b056823f5784",
   "metadata": {},
   "source": [
    "## <font size = 5 color = white> <b>  **5. Identifier Naming Convention**\n",
    "\n",
    "<font size = 4>\n",
    "\n",
    "**Rules:**\n",
    "    \n",
    "  1. Start with an alphabet [A-Z] or [a-z] or an underscore [_]\n",
    "  2. It may be followed by zero or more letters, underscores or digits.\n",
    "  3. No other characters allowed\n",
    "  4. Reserved words are not allowed :\n",
    "     ```python\n",
    "     class, for , in, def, del, while, if\n",
    "     ```\n",
    "\n",
    "**Conventions**\n",
    "    \n",
    "1. Case senistive A ≠ a\n",
    "2. avoid using builtins as identifiers unless you want to change their original assignment "
   ]
  },
  {
   "cell_type": "code",
   "execution_count": 11,
   "id": "48777f1a-f565-4ee3-b179-dc818252c036",
   "metadata": {},
   "outputs": [],
   "source": [
    "# valid identifiers\n",
    "a = 90\n",
    "temp1 = \"Valid\"\n",
    "temp_city = \"Valid\""
   ]
  },
  {
   "cell_type": "code",
   "execution_count": 12,
   "id": "af58bcf0-01e0-4925-aa92-1cfd665d6f18",
   "metadata": {},
   "outputs": [
    {
     "ename": "SyntaxError",
     "evalue": "invalid decimal literal (1841934226.py, line 2)",
     "output_type": "error",
     "traceback": [
      "\u001b[1;36m  Cell \u001b[1;32mIn[12], line 2\u001b[1;36m\u001b[0m\n\u001b[1;33m    1temp = \"Invalid\"\u001b[0m\n\u001b[1;37m    ^\u001b[0m\n\u001b[1;31mSyntaxError\u001b[0m\u001b[1;31m:\u001b[0m invalid decimal literal\n"
     ]
    }
   ],
   "source": [
    "# invalid identifier\n",
    "1temp = \"Invalid\"\n",
    "temp-city = \"Invalid\""
   ]
  },
  {
   "cell_type": "markdown",
   "id": "de47bba3-3f4d-40b3-9954-12ed2db161d5",
   "metadata": {},
   "source": [
    "the correct function name is ```print```\n",
    "\n",
    "```Print`` is not defined in python "
   ]
  },
  {
   "cell_type": "code",
   "execution_count": 13,
   "id": "9f60df62-d938-49c7-a692-3271e785c835",
   "metadata": {},
   "outputs": [
    {
     "ename": "NameError",
     "evalue": "name 'Print' is not defined",
     "output_type": "error",
     "traceback": [
      "\u001b[1;31m---------------------------------------------------------------------------\u001b[0m",
      "\u001b[1;31mNameError\u001b[0m                                 Traceback (most recent call last)",
      "Cell \u001b[1;32mIn[13], line 1\u001b[0m\n\u001b[1;32m----> 1\u001b[0m Print(\u001b[38;5;124m\"\u001b[39m\u001b[38;5;124mWelcome\u001b[39m\u001b[38;5;124m\"\u001b[39m)\n",
      "\u001b[1;31mNameError\u001b[0m: name 'Print' is not defined"
     ]
    }
   ],
   "source": [
    "Print(\"Welcome\") # case sensitiviy \n"
   ]
  },
  {
   "cell_type": "code",
   "execution_count": 15,
   "id": "8d8d1dca-90e7-4a83-83a5-e5955b63d13e",
   "metadata": {},
   "outputs": [
    {
     "ename": "NameError",
     "evalue": "name 'b' is not defined",
     "output_type": "error",
     "traceback": [
      "\u001b[1;31m---------------------------------------------------------------------------\u001b[0m",
      "\u001b[1;31mNameError\u001b[0m                                 Traceback (most recent call last)",
      "Cell \u001b[1;32mIn[15], line 3\u001b[0m\n\u001b[0;32m      1\u001b[0m B \u001b[38;5;241m=\u001b[39m \u001b[38;5;241m98\u001b[39m\n\u001b[1;32m----> 3\u001b[0m \u001b[38;5;28mprint\u001b[39m(b)\n",
      "\u001b[1;31mNameError\u001b[0m: name 'b' is not defined"
     ]
    }
   ],
   "source": [
    "B = 98\n",
    "\n",
    "print(b)"
   ]
  },
  {
   "cell_type": "code",
   "execution_count": 17,
   "id": "64c260bc-eee1-44ed-95da-6ca8866b1e2a",
   "metadata": {},
   "outputs": [
    {
     "name": "stdout",
     "output_type": "stream",
     "text": [
      "['A', 'B', 'In', 'NamespaceMagics', 'Out', '_', '_1', '_10', '_11', '_12', '_13', '_14', '_15', '_16', '_17', '_2', '_3', '_4', '_5', '_6', '_7', '_8', '_9', '__', '__K', '___', '__builtin__', '__builtins__', '__doc__', '__import__', '__ipywidgets', '__loader__', '__name__', '__np', '__package__', '__pandas', '__pd', '__pyspark', '__session__', '__spec__', '__tf', '__torch', '__xr', '_attempt_import', '_check_imported', '_dh', '_i', '_i1', '_i10', '_i11', '_i12', '_i13', '_i14', '_i15', '_i16', '_i17', '_i2', '_i3', '_i4', '_i5', '_i6', '_i7', '_i8', '_i9', '_ih', '_ii', '_iii', '_jupyterlab_variableinspector_Jupyter', '_jupyterlab_variableinspector_changesettings', '_jupyterlab_variableinspector_default', '_jupyterlab_variableinspector_deletevariable', '_jupyterlab_variableinspector_dict_list', '_jupyterlab_variableinspector_displaywidget', '_jupyterlab_variableinspector_getcontentof', '_jupyterlab_variableinspector_getmatrixcontent', '_jupyterlab_variableinspector_getshapeof', '_jupyterlab_variableinspector_getsizeof', '_jupyterlab_variableinspector_is_matrix', '_jupyterlab_variableinspector_is_widget', '_jupyterlab_variableinspector_maxitems', '_jupyterlab_variableinspector_nms', '_oh', 'a', 'collections', 'dataframe_columns', 'dataframe_hash', 'dtypes_str', 'exit', 'get_dataframes', 'get_ipython', 'getpass', 'hashlib', 'import_pandas_safely', 'is_data_frame', 'islice', 'json', 'open', 'quit', 'sys', 'temp1', 'temp_city']\n"
     ]
    }
   ],
   "source": [
    "print(dir())"
   ]
  },
  {
   "cell_type": "code",
   "execution_count": 19,
   "id": "d08a4222-8c51-4da7-9f87-f1ae400a1d1f",
   "metadata": {},
   "outputs": [],
   "source": [
    "dir = 1 # assigned 1 to a builtin function"
   ]
  },
  {
   "cell_type": "code",
   "execution_count": 20,
   "id": "b4636b11-d79a-4c13-9366-faa72c8c0997",
   "metadata": {},
   "outputs": [
    {
     "ename": "TypeError",
     "evalue": "'int' object is not callable",
     "output_type": "error",
     "traceback": [
      "\u001b[1;31m---------------------------------------------------------------------------\u001b[0m",
      "\u001b[1;31mTypeError\u001b[0m                                 Traceback (most recent call last)",
      "Cell \u001b[1;32mIn[20], line 1\u001b[0m\n\u001b[1;32m----> 1\u001b[0m \u001b[38;5;28mprint\u001b[39m(\u001b[38;5;28mdir\u001b[39m())\n",
      "\u001b[1;31mTypeError\u001b[0m: 'int' object is not callable"
     ]
    }
   ],
   "source": [
    "print(dir())"
   ]
  },
  {
   "cell_type": "markdown",
   "id": "30fcc850-dc77-4b26-a1d2-53c69ac1c0d1",
   "metadata": {},
   "source": [
    "### to get back \n",
    "- Restart the kernel completly\n",
    "- del the builtin iden/tifier to reset it "
   ]
  },
  {
   "cell_type": "code",
   "execution_count": 21,
   "id": "1e529d96-9cbd-4422-92e8-981a18652af6",
   "metadata": {},
   "outputs": [],
   "source": [
    "del dir # for builtin functions and objects only will reset "
   ]
  },
  {
   "cell_type": "code",
   "execution_count": 22,
   "id": "a7d242a0-3c0c-4e26-8e98-71697f5a836d",
   "metadata": {},
   "outputs": [
    {
     "name": "stdout",
     "output_type": "stream",
     "text": [
      "['A', 'B', 'In', 'NamespaceMagics', 'Out', '_', '_1', '_10', '_11', '_12', '_13', '_14', '_15', '_16', '_17', '_18', '_19', '_2', '_20', '_21', '_22', '_3', '_4', '_5', '_6', '_7', '_8', '_9', '__', '__K', '___', '__builtin__', '__builtins__', '__doc__', '__import__', '__ipywidgets', '__loader__', '__name__', '__np', '__package__', '__pandas', '__pd', '__pyspark', '__session__', '__spec__', '__tf', '__torch', '__xr', '_attempt_import', '_check_imported', '_dh', '_i', '_i1', '_i10', '_i11', '_i12', '_i13', '_i14', '_i15', '_i16', '_i17', '_i18', '_i19', '_i2', '_i20', '_i21', '_i22', '_i3', '_i4', '_i5', '_i6', '_i7', '_i8', '_i9', '_ih', '_ii', '_iii', '_jupyterlab_variableinspector_Jupyter', '_jupyterlab_variableinspector_changesettings', '_jupyterlab_variableinspector_default', '_jupyterlab_variableinspector_deletevariable', '_jupyterlab_variableinspector_dict_list', '_jupyterlab_variableinspector_displaywidget', '_jupyterlab_variableinspector_getcontentof', '_jupyterlab_variableinspector_getmatrixcontent', '_jupyterlab_variableinspector_getshapeof', '_jupyterlab_variableinspector_getsizeof', '_jupyterlab_variableinspector_is_matrix', '_jupyterlab_variableinspector_is_widget', '_jupyterlab_variableinspector_maxitems', '_jupyterlab_variableinspector_nms', '_oh', 'a', 'collections', 'dataframe_columns', 'dataframe_hash', 'dtypes_str', 'exit', 'get_dataframes', 'get_ipython', 'getpass', 'hashlib', 'import_pandas_safely', 'is_data_frame', 'islice', 'json', 'open', 'quit', 'sys', 'temp1', 'temp_city']\n"
     ]
    }
   ],
   "source": [
    "print(dir())"
   ]
  },
  {
   "cell_type": "markdown",
   "id": "b8b991eb-9808-4d61-9841-9f83766cb9e4",
   "metadata": {},
   "source": [
    "#### ```del``` with other objects the user defined objects --> is going to delete their existence from the kernel"
   ]
  },
  {
   "cell_type": "code",
   "execution_count": 23,
   "id": "91b1e4b6-1411-4eb0-96fc-0ac53eac26fe",
   "metadata": {},
   "outputs": [
    {
     "name": "stdout",
     "output_type": "stream",
     "text": [
      "98\n"
     ]
    }
   ],
   "source": [
    "print(A)"
   ]
  },
  {
   "cell_type": "code",
   "execution_count": 24,
   "id": "613530f6-9910-4c73-8b9d-71d52f69235c",
   "metadata": {},
   "outputs": [],
   "source": [
    "del A"
   ]
  },
  {
   "cell_type": "code",
   "execution_count": 25,
   "id": "fcb14e1d-e79f-4364-b288-a4c92faf6cc1",
   "metadata": {},
   "outputs": [
    {
     "ename": "NameError",
     "evalue": "name 'A' is not defined",
     "output_type": "error",
     "traceback": [
      "\u001b[1;31m---------------------------------------------------------------------------\u001b[0m",
      "\u001b[1;31mNameError\u001b[0m                                 Traceback (most recent call last)",
      "Cell \u001b[1;32mIn[25], line 1\u001b[0m\n\u001b[1;32m----> 1\u001b[0m \u001b[38;5;28mprint\u001b[39m(A)\n",
      "\u001b[1;31mNameError\u001b[0m: name 'A' is not defined"
     ]
    }
   ],
   "source": [
    "print(A)"
   ]
  },
  {
   "cell_type": "markdown",
   "id": "269aaa2a-567c-42a9-a6ae-374c6359bb3d",
   "metadata": {},
   "source": [
    "## <font size = 5 color = white> <b>  **6. Operators**\n",
    "\n",
    "1. Assignment Operators\n",
    "2. Arithmetic Opertors : + - / * // % **\n",
    "3. Assignment and Arithmetic : +=, -=, *= ....\n",
    "4. Relational Operators : == , !=, >, >=, <, <=\n",
    "5. Logical Operators: **and**  , **or** and **not**\n",
    "6. Logical - elementwise: **&**, **|**, **~**\n",
    "7. Membership operators : **in** and **not in**\n",
    "8. Identity Operators : **is** and **is not**"
   ]
  },
  {
   "cell_type": "markdown",
   "id": "b1f775d9-b90a-4c2b-aa9f-65e141ee1713",
   "metadata": {},
   "source": [
    "## <font size = 5 color = white> <b> input output function"
   ]
  },
  {
   "cell_type": "code",
   "execution_count": 26,
   "id": "6ef5f7ff-9808-4f82-b1c5-612461499991",
   "metadata": {},
   "outputs": [
    {
     "name": "stdout",
     "output_type": "stream",
     "text": [
      "Please enter your name Nimisha\n"
     ]
    }
   ],
   "source": [
    "name = input(prompt = \"Please enter your name\")"
   ]
  },
  {
   "cell_type": "code",
   "execution_count": 27,
   "id": "cb02ed7d-3a1d-43d5-961a-806a27d2939f",
   "metadata": {},
   "outputs": [
    {
     "name": "stdout",
     "output_type": "stream",
     "text": [
      "Please enter your age 32\n"
     ]
    }
   ],
   "source": [
    "age = input(prompt = \"Please enter your age\")"
   ]
  },
  {
   "cell_type": "code",
   "execution_count": 32,
   "id": "2850723a-2c07-4c37-ba55-83c793206fd9",
   "metadata": {},
   "outputs": [
    {
     "name": "stdout",
     "output_type": "stream",
     "text": [
      "Hi, Nimisha(32).\n"
     ]
    }
   ],
   "source": [
    "print(\"Hi, \", name, \"(\", age, \").\", sep = '')"
   ]
  },
  {
   "cell_type": "markdown",
   "id": "6bdaa26b-3a88-4e9b-ad89-97182034168d",
   "metadata": {},
   "source": [
    "#### type() # gives the data type of the object "
   ]
  },
  {
   "cell_type": "code",
   "execution_count": 33,
   "id": "06ed2c09-6984-4c0e-98eb-2b9901f4675b",
   "metadata": {},
   "outputs": [
    {
     "data": {
      "text/plain": [
       "str"
      ]
     },
     "execution_count": 33,
     "metadata": {},
     "output_type": "execute_result"
    }
   ],
   "source": [
    "type('Nimisha')"
   ]
  },
  {
   "cell_type": "code",
   "execution_count": 34,
   "id": "648951c6-f933-4fab-8674-64d410f4924e",
   "metadata": {},
   "outputs": [
    {
     "data": {
      "text/plain": [
       "str"
      ]
     },
     "execution_count": 34,
     "metadata": {},
     "output_type": "execute_result"
    }
   ],
   "source": [
    "type(name)"
   ]
  },
  {
   "cell_type": "code",
   "execution_count": 35,
   "id": "7995457c-7c0a-4837-b3a5-757fdfd1f43a",
   "metadata": {},
   "outputs": [
    {
     "data": {
      "text/plain": [
       "str"
      ]
     },
     "execution_count": 35,
     "metadata": {},
     "output_type": "execute_result"
    }
   ],
   "source": [
    "type(age)"
   ]
  },
  {
   "cell_type": "markdown",
   "id": "6e6449f7-2698-4340-8a92-f24fdb9f2863",
   "metadata": {},
   "source": [
    "### input() in python always returns a string "
   ]
  },
  {
   "cell_type": "markdown",
   "id": "b5d62037-cc58-4c2e-9d13-edb58c822a5d",
   "metadata": {},
   "source": [
    "## **Type Conversion**\n",
    "- int\n",
    "- float\n",
    "- bool\n",
    "- str"
   ]
  },
  {
   "cell_type": "code",
   "execution_count": 36,
   "id": "34f83988-d2f1-44ca-8dfa-18692230c2fb",
   "metadata": {},
   "outputs": [],
   "source": [
    "age = int(age)"
   ]
  },
  {
   "cell_type": "code",
   "execution_count": 37,
   "id": "d998e2b4-88b8-4fbb-995c-592814a1d2d2",
   "metadata": {},
   "outputs": [
    {
     "name": "stdout",
     "output_type": "stream",
     "text": [
      "<class 'int'>\n"
     ]
    }
   ],
   "source": [
    "print(type(age))"
   ]
  },
  {
   "cell_type": "markdown",
   "id": "3b35484d-6659-42be-abc0-74b0574e892e",
   "metadata": {},
   "source": [
    "### or"
   ]
  },
  {
   "cell_type": "code",
   "execution_count": null,
   "id": "f82c0e71-edd7-4c79-bf6b-d5c22d994f8f",
   "metadata": {},
   "outputs": [],
   "source": [
    "age = int(input(prompt = \"Please enter your age\"))"
   ]
  },
  {
   "cell_type": "code",
   "execution_count": 40,
   "id": "cb289ee6-2016-45c6-9b3d-697a961b4037",
   "metadata": {},
   "outputs": [
    {
     "data": {
      "text/plain": [
       "int"
      ]
     },
     "execution_count": 40,
     "metadata": {},
     "output_type": "execute_result"
    }
   ],
   "source": [
    "type(age)"
   ]
  },
  {
   "cell_type": "markdown",
   "id": "b9bef713-ca3e-4ace-b3e6-b929832973d9",
   "metadata": {},
   "source": [
    "---\n",
    "* Converting int, float, bool to str --> 100%\n",
    "* string to int --> no decimal, no in-between space, not a single character(letters or special characters)\n",
    "* string to float --> no in-between space, not a single character(letters or special characters)\n"
   ]
  },
  {
   "cell_type": "code",
   "execution_count": 41,
   "id": "a02a45a3-b514-4654-a72a-fa41701d2ab7",
   "metadata": {},
   "outputs": [],
   "source": [
    "ex1 = \"9.5\""
   ]
  },
  {
   "cell_type": "code",
   "execution_count": 42,
   "id": "04f45ba9-467e-4775-b5b0-8b4683efbe9e",
   "metadata": {},
   "outputs": [
    {
     "ename": "ValueError",
     "evalue": "invalid literal for int() with base 10: '9.5'",
     "output_type": "error",
     "traceback": [
      "\u001b[1;31m---------------------------------------------------------------------------\u001b[0m",
      "\u001b[1;31mValueError\u001b[0m                                Traceback (most recent call last)",
      "Cell \u001b[1;32mIn[42], line 1\u001b[0m\n\u001b[1;32m----> 1\u001b[0m \u001b[38;5;28mint\u001b[39m(ex1)\n",
      "\u001b[1;31mValueError\u001b[0m: invalid literal for int() with base 10: '9.5'"
     ]
    }
   ],
   "source": [
    "int(ex1)"
   ]
  },
  {
   "cell_type": "code",
   "execution_count": 43,
   "id": "f4f46525-ed85-4a62-b419-aed1b0275248",
   "metadata": {},
   "outputs": [
    {
     "data": {
      "text/plain": [
       "9.5"
      ]
     },
     "execution_count": 43,
     "metadata": {},
     "output_type": "execute_result"
    }
   ],
   "source": [
    "float(ex1)"
   ]
  },
  {
   "cell_type": "code",
   "execution_count": 44,
   "id": "a750f95f-8b86-40e9-a4d5-dba0d0cd0c7e",
   "metadata": {},
   "outputs": [],
   "source": [
    "ex2 = \"45 89\""
   ]
  },
  {
   "cell_type": "code",
   "execution_count": 45,
   "id": "fc6d6051-f078-47ae-b154-a86f8ca5df15",
   "metadata": {},
   "outputs": [
    {
     "ename": "ValueError",
     "evalue": "invalid literal for int() with base 10: '45 89'",
     "output_type": "error",
     "traceback": [
      "\u001b[1;31m---------------------------------------------------------------------------\u001b[0m",
      "\u001b[1;31mValueError\u001b[0m                                Traceback (most recent call last)",
      "Cell \u001b[1;32mIn[45], line 1\u001b[0m\n\u001b[1;32m----> 1\u001b[0m \u001b[38;5;28mint\u001b[39m(ex2)\n",
      "\u001b[1;31mValueError\u001b[0m: invalid literal for int() with base 10: '45 89'"
     ]
    }
   ],
   "source": [
    "int(ex2)"
   ]
  },
  {
   "cell_type": "code",
   "execution_count": 46,
   "id": "5608c07c-a6d3-4501-a656-dc0e0cd6a81f",
   "metadata": {},
   "outputs": [
    {
     "ename": "ValueError",
     "evalue": "could not convert string to float: '45 89'",
     "output_type": "error",
     "traceback": [
      "\u001b[1;31m---------------------------------------------------------------------------\u001b[0m",
      "\u001b[1;31mValueError\u001b[0m                                Traceback (most recent call last)",
      "Cell \u001b[1;32mIn[46], line 1\u001b[0m\n\u001b[1;32m----> 1\u001b[0m \u001b[38;5;28mfloat\u001b[39m(ex2)\n",
      "\u001b[1;31mValueError\u001b[0m: could not convert string to float: '45 89'"
     ]
    }
   ],
   "source": [
    "float(ex2)"
   ]
  },
  {
   "cell_type": "markdown",
   "id": "5ba13d11-c5a9-4a04-af50-bd0f0dcf14ff",
   "metadata": {},
   "source": [
    "#### False in Python\n",
    "* 0\n",
    "* '', empty object\n",
    "* None"
   ]
  },
  {
   "cell_type": "markdown",
   "id": "b1638730-2299-4655-8ab4-74b23f554e98",
   "metadata": {},
   "source": [
    "## <font size = 5 color = white> <b> String object"
   ]
  },
  {
   "cell_type": "code",
   "execution_count": 47,
   "id": "0678ef3d-1bec-4db2-9200-138c3a57629a",
   "metadata": {},
   "outputs": [],
   "source": [
    "char = 'A'\n",
    "word = 'Apple'\n",
    "phrase = 'Apple of my eye'\n",
    "sentence = 'The apple fell from the tree.'"
   ]
  },
  {
   "cell_type": "markdown",
   "id": "f733086e-8a7d-44fb-a0e7-9dd4e9960b26",
   "metadata": {},
   "source": [
    "### object associated with strings"
   ]
  },
  {
   "cell_type": "code",
   "execution_count": null,
   "id": "3b3a9706-51b7-43b5-a444-a7954e31f4d4",
   "metadata": {},
   "outputs": [
    {
     "name": "stdout",
     "output_type": "stream",
     "text": [
      "['__add__', '__class__', '__contains__', '__delattr__', '__dir__', '__doc__', '__eq__', '__format__', '__ge__', '__getattribute__', '__getitem__', '__getnewargs__', '__getstate__', '__gt__', '__hash__', '__init__', '__init_subclass__', '__iter__', '__le__', '__len__', '__lt__', '__mod__', '__mul__', '__ne__', '__new__', '__reduce__', '__reduce_ex__', '__repr__', '__rmod__', '__rmul__', '__setattr__', '__sizeof__', '__str__', '__subclasshook__', 'capitalize', 'casefold', 'center', 'count', 'encode', 'endswith', 'expandtabs', 'find', 'format', 'format_map', 'index', 'isalnum', 'isalpha', 'isascii', 'isdecimal', 'isdigit', 'isidentifier', 'islower', 'isnumeric', 'isprintable', 'isspace', 'istitle', 'isupper', 'join', 'ljust', 'lower', 'lstrip', 'maketrans', 'partition', 'removeprefix', 'removesuffix', 'replace', 'rfind', 'rindex', 'rjust', 'rpartition', 'rsplit', 'rstrip', 'split', 'splitlines', 'startswith', 'strip', 'swapcase', 'title', 'translate', 'upper', 'zfill']\n"
     ]
    }
   ],
   "source": [
    "print(dir(char))"
   ]
  },
  {
   "cell_type": "markdown",
   "id": "380b7d75-71c3-4f51-81bb-c9cc85439c46",
   "metadata": {},
   "source": [
    "['capitalize', 'casefold', 'center', 'count', 'encode', 'endswith', 'expandtabs', 'find', 'format', 'format_map', 'index', 'isalnum', 'isalpha', 'isascii', 'isdecimal', 'isdigit', 'isidentifier', 'islower', 'isnumeric', 'isprintable', 'isspace', 'istitle', 'isupper', 'join', 'ljust', 'lower', 'lstrip', 'maketrans', 'partition', 'removeprefix', 'removesuffix', 'replace', 'rfind', 'rindex', 'rjust', 'rpartition', 'rsplit', 'rstrip', 'split', 'splitlines', 'startswith', 'strip', 'swapcase', 'title', 'translate', 'upper', 'zfill']\n"
   ]
  },
  {
   "cell_type": "code",
   "execution_count": null,
   "id": "93e85228-5e77-4a9c-901d-a9043fd21995",
   "metadata": {},
   "outputs": [
    {
     "name": "stdout",
     "output_type": "stream",
     "text": [
      "Great things come from humble beginnings!\n"
     ]
    }
   ],
   "source": [
    "mess_1 = 'Great things come from humble beginnings!'\n",
    "print(mess_1)"
   ]
  },
  {
   "cell_type": "code",
   "execution_count": null,
   "id": "7f7ed96c-3fe4-4a0c-942b-1e35e3be79e2",
   "metadata": {},
   "outputs": [
    {
     "ename": "SyntaxError",
     "evalue": "unterminated string literal (detected at line 1) (2302983118.py, line 1)",
     "output_type": "error",
     "traceback": [
      "\u001b[1;36m  Cell \u001b[1;32mIn[50], line 1\u001b[1;36m\u001b[0m\n\u001b[1;33m    mess_2 = 'You can't rise above by pulling others down'\u001b[0m\n\u001b[1;37m                                                         ^\u001b[0m\n\u001b[1;31mSyntaxError\u001b[0m\u001b[1;31m:\u001b[0m unterminated string literal (detected at line 1)\n"
     ]
    }
   ],
   "source": [
    "mess_2 = 'You can't rise above by pulling others down'\n",
    "print(mess_2)"
   ]
  },
  {
   "cell_type": "code",
   "execution_count": null,
   "id": "44bfd80b-21bd-426d-b734-ad06db558c73",
   "metadata": {},
   "outputs": [
    {
     "data": {
      "text/plain": [
       "\"You can't rise above by pulling others down\""
      ]
     },
     "execution_count": 51,
     "metadata": {},
     "output_type": "execute_result"
    }
   ],
   "source": [
    "mess_2 = 'You can\\'t rise above by pulling others down'\n",
    "mess_2"
   ]
  },
  {
   "cell_type": "code",
   "execution_count": null,
   "id": "49c46ef5-bb5c-4ac3-ab01-c19b0fd0d019",
   "metadata": {},
   "outputs": [
    {
     "data": {
      "text/plain": [
       "\"You can't rise above by pulling others down\""
      ]
     },
     "execution_count": 52,
     "metadata": {},
     "output_type": "execute_result"
    }
   ],
   "source": [
    "mess_2 = \"You can't rise above by pulling others down\"\n",
    "mess_2"
   ]
  },
  {
   "cell_type": "markdown",
   "id": "c09181cb-9549-4df0-9a61-ffc218853581",
   "metadata": {},
   "source": [
    "- Python interpreter expects the end of the statement in the same line\n",
    "- unless enclosed within brackets\n",
    "- or different parameters of a function"
   ]
  },
  {
   "cell_type": "code",
   "execution_count": null,
   "id": "06bed453-9286-42b9-b2ce-13b1a56fe6b7",
   "metadata": {},
   "outputs": [
    {
     "name": "stdout",
     "output_type": "stream",
     "text": [
      "Hello!**World\n"
     ]
    }
   ],
   "source": [
    "print(\"Hello!\",\n",
    "      \"World\",\n",
    "     sep = '**')"
   ]
  },
  {
   "cell_type": "code",
   "execution_count": null,
   "id": "0687dc3e-b79e-4752-9637-ebcbb4d9f78c",
   "metadata": {},
   "outputs": [
    {
     "ename": "SyntaxError",
     "evalue": "invalid syntax (1770651278.py, line 1)",
     "output_type": "error",
     "traceback": [
      "\u001b[1;36m  Cell \u001b[1;32mIn[54], line 1\u001b[1;36m\u001b[0m\n\u001b[1;33m    76 +\u001b[0m\n\u001b[1;37m        ^\u001b[0m\n\u001b[1;31mSyntaxError\u001b[0m\u001b[1;31m:\u001b[0m invalid syntax\n"
     ]
    }
   ],
   "source": [
    "76 +\n",
    "36+\n",
    "54"
   ]
  },
  {
   "cell_type": "code",
   "execution_count": null,
   "id": "f8b5b65d-3870-4393-b95f-4a03575d04d5",
   "metadata": {},
   "outputs": [
    {
     "name": "stdout",
     "output_type": "stream",
     "text": [
      "I am Nimisha. I love programming!\n"
     ]
    }
   ],
   "source": [
    "text = \"I am Nimisha. I love programming!\"\n",
    "print(text)"
   ]
  },
  {
   "cell_type": "markdown",
   "id": "46736db6-5b48-4eca-8d36-86fb0d54146d",
   "metadata": {},
   "source": [
    "#### ```\\n```: new line"
   ]
  },
  {
   "cell_type": "code",
   "execution_count": null,
   "id": "b158d4a1-6cac-48a5-8436-97f916b211d6",
   "metadata": {},
   "outputs": [
    {
     "name": "stdout",
     "output_type": "stream",
     "text": [
      "I am Nimisha.\n",
      "I love programming!\n"
     ]
    }
   ],
   "source": [
    "text = \"I am Nimisha.\\nI love programming!\"\n",
    "print(text)"
   ]
  },
  {
   "cell_type": "code",
   "execution_count": null,
   "id": "a4089ea3-8d64-4402-b9f0-85a40bb2da5e",
   "metadata": {},
   "outputs": [],
   "source": [
    "text = \"\"\"\n",
    "I am Nimisha.\n",
    "I love programming!\n",
    "\"\"\""
   ]
  },
  {
   "cell_type": "code",
   "execution_count": null,
   "id": "643b6a3d-8cf1-4560-a9ba-9bf00c10b8d6",
   "metadata": {},
   "outputs": [
    {
     "name": "stdout",
     "output_type": "stream",
     "text": [
      "\n",
      "I am Nimisha.\n",
      "I love programming!\n",
      "\n"
     ]
    }
   ],
   "source": [
    "print(text)"
   ]
  },
  {
   "cell_type": "markdown",
   "id": "414ca9f0-857a-49b5-bb27-3994c081cf8c",
   "metadata": {},
   "source": [
    "<b> often used to specify documentation within a function or a class"
   ]
  },
  {
   "cell_type": "code",
   "execution_count": null,
   "id": "24d638a3-dd1c-46da-836b-3dd4912bc894",
   "metadata": {},
   "outputs": [
    {
     "name": "stdout",
     "output_type": "stream",
     "text": [
      "Help on built-in function capitalize:\n",
      "\n",
      "capitalize() method of builtins.str instance\n",
      "    Return a capitalized version of the string.\n",
      "\n",
      "    More specifically, make the first character have upper case and the rest lower\n",
      "    case.\n",
      "\n"
     ]
    }
   ],
   "source": [
    "help(text.capitalize)"
   ]
  },
  {
   "cell_type": "code",
   "execution_count": null,
   "id": "959811a8-6c25-4e4a-b6ad-210a83250fdc",
   "metadata": {},
   "outputs": [
    {
     "name": "stdout",
     "output_type": "stream",
     "text": [
      "Help on built-in function title:\n",
      "\n",
      "title() method of builtins.str instance\n",
      "    Return a version of the string where each word is titlecased.\n",
      "\n",
      "    More specifically, words start with uppercased characters and all remaining\n",
      "    cased characters have lower case.\n",
      "\n"
     ]
    }
   ],
   "source": [
    "help(text.title)"
   ]
  },
  {
   "cell_type": "markdown",
   "id": "ade30456-d301-49d8-b851-97bc4aaaaaeb",
   "metadata": {},
   "source": [
    "## <font size = 5 color = white> <b>  Data Structures"
   ]
  },
  {
   "cell_type": "markdown",
   "id": "1d915371-2b7d-48d4-a83e-0278d575f5d3",
   "metadata": {},
   "source": [
    "  1. Lists : ordered collection of data items \n",
    "  2. tuples : ordered immuatble collection of data items\n",
    "  3. sets : unique collection of data items \n",
    "  4. dictionaries: collection of key value pairs"
   ]
  },
  {
   "cell_type": "markdown",
   "id": "96d008e7-de77-4559-9711-066328afab57",
   "metadata": {},
   "source": [
    "### **Lists**"
   ]
  },
  {
   "cell_type": "code",
   "execution_count": 63,
   "id": "1e277580-27b9-46f8-947a-78b99687ab7f",
   "metadata": {},
   "outputs": [],
   "source": [
    "# create a list\n",
    "list_ex_1 = [1, \"a\", 2, \"b\", 3, \"c\", 4, \"d\", 5, \"e\"]\n",
    "list_ex_2 = [['plum', 'oranges', 'pineapple'], ['okra', 'cabbage'], 'rice', 'jam', 100]"
   ]
  },
  {
   "cell_type": "code",
   "execution_count": 64,
   "id": "6442faf8-3155-4d9b-b4d6-92ede0d19e95",
   "metadata": {},
   "outputs": [
    {
     "name": "stdout",
     "output_type": "stream",
     "text": [
      "[1, 'a', 2, 'b', 3, 'c', 4, 'd', 5, 'e']\n"
     ]
    }
   ],
   "source": [
    "print(list_ex_1)"
   ]
  },
  {
   "cell_type": "code",
   "execution_count": 65,
   "id": "c36c5705-35da-4a87-b93e-995cc902bc77",
   "metadata": {},
   "outputs": [
    {
     "name": "stdout",
     "output_type": "stream",
     "text": [
      "10\n"
     ]
    }
   ],
   "source": [
    "print(len(list_ex_1))"
   ]
  },
  {
   "cell_type": "code",
   "execution_count": 66,
   "id": "1c3df197-67c9-46c2-ac4c-33818051e5ec",
   "metadata": {},
   "outputs": [
    {
     "name": "stdout",
     "output_type": "stream",
     "text": [
      "5\n"
     ]
    }
   ],
   "source": [
    "print(len(list_ex_2))"
   ]
  },
  {
   "cell_type": "markdown",
   "id": "7852aa18-eeb4-4cd7-b78c-193007390c60",
   "metadata": {},
   "source": [
    "#### access elements - indexing"
   ]
  },
  {
   "cell_type": "code",
   "execution_count": 67,
   "id": "ef9c13ae-a741-44e5-9a72-e982cd5b68ae",
   "metadata": {},
   "outputs": [
    {
     "name": "stdout",
     "output_type": "stream",
     "text": [
      "First element:  1\n",
      "Secnd element:  a\n"
     ]
    }
   ],
   "source": [
    "print(\"First element: \", list_ex_1[0])\n",
    "print(\"Secnd element: \", list_ex_1[1])"
   ]
  },
  {
   "cell_type": "code",
   "execution_count": 68,
   "id": "94569807-7af4-4867-830c-337b2f8ad62f",
   "metadata": {},
   "outputs": [
    {
     "name": "stdout",
     "output_type": "stream",
     "text": [
      "Last element:  e\n",
      "2nd Last element:  5\n"
     ]
    }
   ],
   "source": [
    "# negative indexing\n",
    "print(\"Last element: \", list_ex_1[-1])\n",
    "print(\"2nd Last element: \", list_ex_1[-2])"
   ]
  },
  {
   "cell_type": "markdown",
   "id": "f5930f35-67a5-4fc5-92c6-3235cc383b22",
   "metadata": {},
   "source": [
    "* From left to right : 0 ---> len(list)-1\n",
    "* From right to left : -1 ---> -len(list)"
   ]
  },
  {
   "cell_type": "code",
   "execution_count": 69,
   "id": "c89eb421-b369-4610-aaab-bc07180060e9",
   "metadata": {},
   "outputs": [],
   "source": [
    "#  0   1   2   3   4   5   6   7   8   9\n",
    "# [1, \"a\", 2, \"b\", 3, \"c\", 4, \"d\", 5, \"e\"]\n",
    "# -10  -9  -8  -7  -6  -5  -4  -3  -2  -1"
   ]
  },
  {
   "cell_type": "markdown",
   "id": "2eec7ed5-9fbf-4387-8dbc-16678e007dd5",
   "metadata": {},
   "source": [
    "## Slicing: start_index : stop_index : step\n",
    "  - start: index location to start with|data value at this index is always included\n",
    "  - stop: index location where to stop|data value at this index is always excluded\n",
    "  - step: jump beteen to consecutive indices to reach from start to stop\n",
    "\n",
    "Default values:\n",
    "* if step = positive\n",
    "  start = 0 | stop = len(obj)\n",
    "* if step = negative\n",
    "  start = -1 | stop = - (len(obj) +1)"
   ]
  },
  {
   "cell_type": "code",
   "execution_count": null,
   "id": "9d1060d3-413c-4764-b9f0-b6dcbd879f88",
   "metadata": {},
   "outputs": [],
   "source": []
  }
 ],
 "metadata": {
  "kernelspec": {
   "display_name": "base",
   "language": "python",
   "name": "python3"
  },
  "language_info": {
   "codemirror_mode": {
    "name": "ipython",
    "version": 3
   },
   "file_extension": ".py",
   "mimetype": "text/x-python",
   "name": "python",
   "nbconvert_exporter": "python",
   "pygments_lexer": "ipython3",
   "version": "3.13.5"
  }
 },
 "nbformat": 4,
 "nbformat_minor": 5
}
